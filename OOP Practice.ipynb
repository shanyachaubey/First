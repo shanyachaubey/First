{
 "cells": [
  {
   "cell_type": "code",
   "execution_count": 23,
   "id": "c984aac9",
   "metadata": {},
   "outputs": [
    {
     "name": "stdout",
     "output_type": "stream",
     "text": [
      "I guess this workzs too and now your name is ted my num is 0\n",
      "This works\n",
      "I guess this workzs too and now your name is woof my num is 56\n",
      "4\n",
      "England\n",
      "666.6666666666666\n",
      "I guess this workzs too and now your name is boom my num is 4\n",
      "56 woof England\n"
     ]
    }
   ],
   "source": [
    "class Dog():\n",
    "    def __init__(self, name, num = 0):\n",
    "        self.name = name\n",
    "        self.boom = num\n",
    "        print('I guess this workzs too and now your name is', name, 'my num is', num)\n",
    "        pass\n",
    "    def bark(self):\n",
    "        print('This works')\n",
    "    def paw(self, num_paw):\n",
    "        return num_paw-2\n",
    "    def new_house(self, address):\n",
    "        self.house = address\n",
    "    def cost(self, cost_of_dog):\n",
    "        self.cost = cost_of_dog\n",
    "    def monthly_cost(self):\n",
    "        return self.cost/12\n",
    "        \n",
    "        \n",
    "    \n",
    "        \n",
    "d1 = Dog('ted')\n",
    "d1.bark()\n",
    "\n",
    "d2 = Dog('woof',56)\n",
    "print(d2.paw(6))\n",
    "d2.new_house('England')\n",
    "print(d2.house)\n",
    "d2.cost(8000)\n",
    "mon_val = d2.monthly_cost() #had to assign this method's value to a new variable\n",
    "#attributes are created by assignment\n",
    "print(mon_val)\n",
    "\n",
    "d3 = Dog('boom',4)\n",
    "print(d2.boom, d2.name, d2.house)\n"
   ]
  },
  {
   "cell_type": "code",
   "execution_count": 31,
   "id": "1e77f9ac",
   "metadata": {},
   "outputs": [
    {
     "name": "stdout",
     "output_type": "stream",
     "text": [
      "5\n"
     ]
    },
    {
     "ename": "TypeError",
     "evalue": "__init__() missing 1 required positional argument: 'num'",
     "output_type": "error",
     "traceback": [
      "\u001b[1;31m---------------------------------------------------------------------------\u001b[0m",
      "\u001b[1;31mTypeError\u001b[0m                                 Traceback (most recent call last)",
      "\u001b[1;32m~\\AppData\\Local\\Temp/ipykernel_42744/2922885848.py\u001b[0m in \u001b[0;36m<module>\u001b[1;34m\u001b[0m\n\u001b[0;32m     18\u001b[0m \u001b[1;31m#answer = CatLitter(2)\u001b[0m\u001b[1;33m\u001b[0m\u001b[1;33m\u001b[0m\u001b[0m\n\u001b[0;32m     19\u001b[0m \u001b[0mprint\u001b[0m\u001b[1;33m(\u001b[0m\u001b[0manswer\u001b[0m\u001b[1;33m.\u001b[0m\u001b[0mmax_days\u001b[0m\u001b[1;33m)\u001b[0m\u001b[1;33m\u001b[0m\u001b[1;33m\u001b[0m\u001b[0m\n\u001b[1;32m---> 20\u001b[1;33m \u001b[0mprint\u001b[0m\u001b[1;33m(\u001b[0m\u001b[0mCatLitter\u001b[0m\u001b[1;33m.\u001b[0m\u001b[0mexample\u001b[0m\u001b[1;33m(\u001b[0m\u001b[1;36m45\u001b[0m\u001b[1;33m)\u001b[0m\u001b[1;33m)\u001b[0m\u001b[1;33m\u001b[0m\u001b[1;33m\u001b[0m\u001b[0m\n\u001b[0m",
      "\u001b[1;32m~\\AppData\\Local\\Temp/ipykernel_42744/2922885848.py\u001b[0m in \u001b[0;36mexample\u001b[1;34m(cls, num)\u001b[0m\n\u001b[0;32m     11\u001b[0m     \u001b[1;32mdef\u001b[0m \u001b[0mexample\u001b[0m\u001b[1;33m(\u001b[0m\u001b[0mcls\u001b[0m\u001b[1;33m,\u001b[0m\u001b[0mnum\u001b[0m\u001b[1;33m)\u001b[0m\u001b[1;33m:\u001b[0m\u001b[1;33m\u001b[0m\u001b[1;33m\u001b[0m\u001b[0m\n\u001b[0;32m     12\u001b[0m         \u001b[0mnum\u001b[0m \u001b[1;33m=\u001b[0m \u001b[0mnum\u001b[0m\u001b[1;33m*\u001b[0m\u001b[1;36m10\u001b[0m\u001b[1;33m\u001b[0m\u001b[1;33m\u001b[0m\u001b[0m\n\u001b[1;32m---> 13\u001b[1;33m         \u001b[1;32mreturn\u001b[0m \u001b[0mcls\u001b[0m\u001b[1;33m(\u001b[0m\u001b[0mnum\u001b[0m\u001b[1;33m)\u001b[0m\u001b[1;33m\u001b[0m\u001b[1;33m\u001b[0m\u001b[0m\n\u001b[0m\u001b[0;32m     14\u001b[0m \u001b[1;33m\u001b[0m\u001b[0m\n\u001b[0;32m     15\u001b[0m \u001b[1;33m\u001b[0m\u001b[0m\n",
      "\u001b[1;31mTypeError\u001b[0m: __init__() missing 1 required positional argument: 'num'"
     ]
    }
   ],
   "source": [
    "class CatLitter:\n",
    "    max_days = 5\n",
    "    def __init__(self, days):\n",
    "        self.days = days\n",
    "        if self.days >3:\n",
    "            print('clean yo fucking shit')\n",
    "        else:\n",
    "            print('You good')\n",
    "        self.num = num\n",
    "    @classmethod\n",
    "    def example(cls,num):\n",
    "        num = num*10\n",
    "        return cls(num)\n",
    "            \n",
    "\n",
    "    \n",
    "            \n",
    "#answer = CatLitter(2)\n",
    "print(answer.max_days)\n",
    "print(CatLitter.example(45))"
   ]
  },
  {
   "cell_type": "code",
   "execution_count": 43,
   "id": "525ef540",
   "metadata": {},
   "outputs": [
    {
     "name": "stdout",
     "output_type": "stream",
     "text": [
      "79550.0\n",
      "81610.0\n"
     ]
    }
   ],
   "source": [
    "class Employee:\n",
    "    def __init__(self, name, amount=30000):\n",
    "        self.name = name\n",
    "        self.amount = amount\n",
    "    def give_raise(self, moremoney):\n",
    "        self.amount += moremoney\n",
    "        \n",
    "class Manager(Employee):\n",
    "    def display(self):\n",
    "        print(\"Manager\", self.name)\n",
    "        \n",
    "    def __init__(self, name, amount = 50000, projectname = None):\n",
    "        Employee.__init__(self, name, amount) #we are calling the init method of the parent class here? WHy?\n",
    "        self.projectname = projectname\n",
    "        \n",
    "    def give_raise(self, moremoney, bonus = 1.05):\n",
    "        new_amount = moremoney*bonus\n",
    "        Employee.give_raise(self, new_amount)\n",
    "\n",
    "e = Manager('Tasha', 78500)\n",
    "e.give_raise(1000)\n",
    "print(e.amount)\n",
    "e.give_raise(2000, 1.03)\n",
    "print(e.amount)"
   ]
  },
  {
   "cell_type": "code",
   "execution_count": 39,
   "id": "443d1290",
   "metadata": {},
   "outputs": [
    {
     "name": "stdout",
     "output_type": "stream",
     "text": [
      "79550.0\n",
      "81610.0\n"
     ]
    }
   ],
   "source": [
    "class Employee:\n",
    "    def __init__(self, name, salary=30000):\n",
    "        self.name = name\n",
    "        self.salary = salary\n",
    "\n",
    "    def give_raise(self, amount):\n",
    "        self.salary += amount\n",
    "\n",
    "        \n",
    "class Manager(Employee):\n",
    "    def display(self):\n",
    "        print(\"Manager \", self.name)\n",
    "\n",
    "    def __init__(self, name, salary=50000, project=None):\n",
    "        Employee.__init__(self, name, salary)\n",
    "        self.project = project\n",
    "\n",
    "    # Add a give_raise method\n",
    "    def give_raise(self, amount, bonus=1.05):\n",
    "        new_amount = amount * bonus\n",
    "        Employee.give_raise(self, new_amount)\n",
    "    \n",
    "    \n",
    "mngr = Manager(\"Ashta Dunbar\", 78500)\n",
    "mngr.give_raise(1000)\n",
    "print(mngr.salary)\n",
    "mngr.give_raise(2000, bonus=1.03)\n",
    "print(mngr.salary)"
   ]
  },
  {
   "cell_type": "code",
   "execution_count": 57,
   "id": "de69c390",
   "metadata": {},
   "outputs": [
    {
     "name": "stdout",
     "output_type": "stream",
     "text": [
      "False\n",
      "85.0\n"
     ]
    }
   ],
   "source": [
    "class Student:\n",
    "    def __init__(self, name, age, grade):\n",
    "        self.name = name\n",
    "        self.age = age\n",
    "        self.grade = grade #0-100\n",
    "        \n",
    "    def get_grade(self):\n",
    "        return self.grade\n",
    "    \n",
    "    \n",
    "class Course:#ability to add students to a course\n",
    "    def __init__(self, name, max_students):\n",
    "        self.name = name\n",
    "        self.max_students = max_students\n",
    "        self.students = []\n",
    "    \n",
    "    def add_student(self, student):#student is going to be an instance of the student object\n",
    "        if len(self.students) < self.max_students:\n",
    "            self.students.append(student)\n",
    "            return True\n",
    "        return False\n",
    "    \n",
    "    def get_average_grade(self):\n",
    "        value = 0\n",
    "        for student in self.students:\n",
    "            value += student.get_grade()\n",
    "        \n",
    "        return value / len(self.students)\n",
    "    \n",
    "    \n",
    "s1 = Student('Tim', 19, 95)\n",
    "s2 = Student('Bill', 19, 75)\n",
    "s3 = Student('Jill', 19, 65)\n",
    "\n",
    "\n",
    "course = Course('Science', 2) \n",
    "course.add_student(s1)\n",
    "course.add_student(s2)\n",
    "print(course.add_student(s3))\n",
    "print(course.get_average_grade())\n",
    "    \n",
    "        "
   ]
  },
  {
   "cell_type": "code",
   "execution_count": null,
   "id": "902d913f",
   "metadata": {},
   "outputs": [],
   "source": [
    "#Both these classes have lots in common so in next\n",
    "#block we will test out inheritance. \n",
    "\n",
    "class Cat:\n",
    "    def __init__(self, name , age):\n",
    "        self.name = name\n",
    "        self.age = age\n",
    "        \n",
    "    def speak(self):\n",
    "        print(\"Meow\")\n",
    "        \n",
    "class Dog:\n",
    "    def __init__(self, name , age):\n",
    "        self.name = name\n",
    "        self.age = age\n",
    "        \n",
    "    def speak(self):\n",
    "        print(\"Bark\")"
   ]
  },
  {
   "cell_type": "code",
   "execution_count": 66,
   "id": "983729da",
   "metadata": {},
   "outputs": [
    {
     "name": "stdout",
     "output_type": "stream",
     "text": [
      "I am Tim, and I am 19 years old\n",
      "I am Bill, and I am 34 years old and I am Brown color\n",
      "I am Jill, and I am 25 years old\n",
      "Meow\n",
      "Bark\n",
      "I don't know what i say\n",
      "I don't know what i say\n"
     ]
    }
   ],
   "source": [
    "#Test out how inheritance works\n",
    "\n",
    "class Pet:\n",
    "    def __init__(self, name , age):\n",
    "        self.name = name\n",
    "        self.age = age\n",
    "    \n",
    "    def show(self):\n",
    "        print('I am {}, and I am {} years old'.format(self.name, self.age ))\n",
    "    \n",
    "    def speak(self):\n",
    "        print('I don\\'t know what i say')\n",
    "\n",
    "class Cat(Pet):\n",
    "    def __init__(self, name, age, color):\n",
    "        super().__init__(name, age)\n",
    "        self.color = color\n",
    "    def speak(self):\n",
    "        print(\"Meow\")\n",
    "    def show(self):\n",
    "          print('I am {}, and I am {} years old and I am {} color'.format(self.name, self.age, self.color ))\n",
    "        \n",
    "class Dog(Pet):        \n",
    "    def speak(self):\n",
    "        print(\"Bark\")\n",
    "\n",
    "class Fish(Pet):\n",
    "    pass\n",
    "        \n",
    "        \n",
    "p = Pet('Tim', 19)\n",
    "p.show()\n",
    "\n",
    "c = Cat('Bill', 34, 'Brown')\n",
    "c.show()\n",
    "\n",
    "d = Dog('Jill', 25)\n",
    "d.show()\n",
    "\n",
    "c.speak()\n",
    "d.speak()\n",
    "p.speak()\n",
    "\n",
    "f = Fish('Bubbles',10)\n",
    "f.speak()"
   ]
  },
  {
   "cell_type": "code",
   "execution_count": 76,
   "id": "be0ea1d5",
   "metadata": {},
   "outputs": [
    {
     "name": "stdout",
     "output_type": "stream",
     "text": [
      "2\n",
      "2\n",
      "2\n",
      "3\n",
      "4\n",
      "4\n"
     ]
    }
   ],
   "source": [
    "class Person:\n",
    "    number_of_people = 0\n",
    "    \n",
    "    def __init__(self, name):\n",
    "        self.name = name\n",
    "        Person.add_person()\n",
    "    \n",
    "    @classmethod\n",
    "    def number_of_people_(cls):\n",
    "        return cls.number_of_people\n",
    "    \n",
    "    @classmethod\n",
    "    def add_person(cls):\n",
    "        cls.number_of_people += 1\n",
    "    \n",
    "\n",
    "p1 = Person('TIm')\n",
    "p2 = Person('Jill')\n",
    "print(Person.number_of_people)  # class can also call it\n",
    "print(p1.number_of_people) #instance can call it \n",
    "\n",
    "#Person.number_of_people = 9  #can assign new values to it\n",
    "print(Person.number_of_people)\n",
    "p3 = Person('A')\n",
    "print(Person.number_of_people)\n",
    "p4 = Person('B')\n",
    "print(Person.number_of_people)\n",
    "print(Person.number_of_people_())"
   ]
  },
  {
   "cell_type": "code",
   "execution_count": 81,
   "id": "07405706",
   "metadata": {},
   "outputs": [
    {
     "name": "stdout",
     "output_type": "stream",
     "text": [
      "10\n",
      "run\n"
     ]
    }
   ],
   "source": [
    "class Math:\n",
    "    \n",
    "    @staticmethod\n",
    "    def add5(x):\n",
    "        return x+5\n",
    "    \n",
    "    @staticmethod\n",
    "    def pr():\n",
    "        print('run')\n",
    "\n",
    "print(Math.add5(5))\n",
    "Math.pr()\n"
   ]
  },
  {
   "cell_type": "code",
   "execution_count": 95,
   "id": "74068d6b",
   "metadata": {},
   "outputs": [
    {
     "name": "stdout",
     "output_type": "stream",
     "text": [
      "Solving bugs\n",
      "It's running\n",
      "Solving bugs\n"
     ]
    },
    {
     "ename": "AttributeError",
     "evalue": "'Whiteboard' object has no attribute 'process'",
     "output_type": "error",
     "traceback": [
      "\u001b[1;31m---------------------------------------------------------------------------\u001b[0m",
      "\u001b[1;31mAttributeError\u001b[0m                            Traceback (most recent call last)",
      "\u001b[1;32m~\\AppData\\Local\\Temp/ipykernel_42744/1635077033.py\u001b[0m in \u001b[0;36m<module>\u001b[1;34m\u001b[0m\n\u001b[0;32m     27\u001b[0m \u001b[0mprog1\u001b[0m\u001b[1;33m.\u001b[0m\u001b[0mwork\u001b[0m\u001b[1;33m(\u001b[0m\u001b[0mcom1\u001b[0m\u001b[1;33m)\u001b[0m\u001b[1;33m\u001b[0m\u001b[1;33m\u001b[0m\u001b[0m\n\u001b[0;32m     28\u001b[0m \u001b[0mcom2\u001b[0m \u001b[1;33m=\u001b[0m \u001b[0mWhiteboard\u001b[0m\u001b[1;33m(\u001b[0m\u001b[1;33m)\u001b[0m\u001b[1;33m\u001b[0m\u001b[1;33m\u001b[0m\u001b[0m\n\u001b[1;32m---> 29\u001b[1;33m \u001b[0mprog1\u001b[0m\u001b[1;33m.\u001b[0m\u001b[0mwork\u001b[0m\u001b[1;33m(\u001b[0m\u001b[0mcom2\u001b[0m\u001b[1;33m)\u001b[0m\u001b[1;33m\u001b[0m\u001b[1;33m\u001b[0m\u001b[0m\n\u001b[0m",
      "\u001b[1;32m~\\AppData\\Local\\Temp/ipykernel_42744/1635077033.py\u001b[0m in \u001b[0;36mwork\u001b[1;34m(self, com)\u001b[0m\n\u001b[0;32m     18\u001b[0m     \u001b[1;32mdef\u001b[0m \u001b[0mwork\u001b[0m\u001b[1;33m(\u001b[0m\u001b[0mself\u001b[0m\u001b[1;33m,\u001b[0m \u001b[0mcom\u001b[0m\u001b[1;33m)\u001b[0m\u001b[1;33m:\u001b[0m\u001b[1;33m\u001b[0m\u001b[1;33m\u001b[0m\u001b[0m\n\u001b[0;32m     19\u001b[0m         \u001b[0mprint\u001b[0m\u001b[1;33m(\u001b[0m\u001b[1;34m'Solving bugs'\u001b[0m\u001b[1;33m)\u001b[0m\u001b[1;33m\u001b[0m\u001b[1;33m\u001b[0m\u001b[0m\n\u001b[1;32m---> 20\u001b[1;33m         \u001b[0mcom\u001b[0m\u001b[1;33m.\u001b[0m\u001b[0mprocess\u001b[0m\u001b[1;33m(\u001b[0m\u001b[1;33m)\u001b[0m\u001b[1;33m\u001b[0m\u001b[1;33m\u001b[0m\u001b[0m\n\u001b[0m\u001b[0;32m     21\u001b[0m \u001b[1;33m\u001b[0m\u001b[0m\n\u001b[0;32m     22\u001b[0m \u001b[1;31m#c=Computer()\u001b[0m\u001b[1;33m\u001b[0m\u001b[1;33m\u001b[0m\u001b[0m\n",
      "\u001b[1;31mAttributeError\u001b[0m: 'Whiteboard' object has no attribute 'process'"
     ]
    }
   ],
   "source": [
    "from abc import ABC, abstractmethod\n",
    "\n",
    "\n",
    "class Computer(ABC):\n",
    "    @abstractmethod\n",
    "    def process(self):\n",
    "        pass\n",
    "\n",
    "class Laptop(Computer):\n",
    "    def process(self):\n",
    "        print('It\\'s running')\n",
    "        \n",
    "class Whiteboard:\n",
    "    def write(self):\n",
    "        print('It\\'s writing')\n",
    "        \n",
    "class Programmer:\n",
    "    def work(self, com):\n",
    "        print('Solving bugs')\n",
    "        com.process()\n",
    "\n",
    "#c=Computer()\n",
    "com1 = Laptop()\n",
    "#com.process()\n",
    "#com1.process()\n",
    "prog1 = Programmer()\n",
    "prog1.work(com1)\n",
    "com2 = Whiteboard()\n",
    "prog1.work(com2)"
   ]
  },
  {
   "cell_type": "code",
   "execution_count": null,
   "id": "f4b642f7",
   "metadata": {},
   "outputs": [],
   "source": []
  }
 ],
 "metadata": {
  "kernelspec": {
   "display_name": "Python 3 (ipykernel)",
   "language": "python",
   "name": "python3"
  },
  "language_info": {
   "codemirror_mode": {
    "name": "ipython",
    "version": 3
   },
   "file_extension": ".py",
   "mimetype": "text/x-python",
   "name": "python",
   "nbconvert_exporter": "python",
   "pygments_lexer": "ipython3",
   "version": "3.9.7"
  }
 },
 "nbformat": 4,
 "nbformat_minor": 5
}
