{
 "cells": [
  {
   "cell_type": "code",
   "execution_count": 2,
   "id": "c5459454",
   "metadata": {},
   "outputs": [
    {
     "name": "stdout",
     "output_type": "stream",
     "text": [
      "Insertion sort for [9, 23, 4, 1, 0] starts.\n",
      "Partially ordered list as: [9]\n",
      "Partially ordered list as: [9, 23]\n",
      "Partially ordered list as: [4, 9, 23]\n",
      "Partially ordered list as: [1, 4, 9, 23]\n",
      "Partially ordered list as: [0, 1, 4, 9, 23]\n",
      "[0, 1, 4, 9, 23]\n"
     ]
    }
   ],
   "source": [
    "def insertion_sort(list):\n",
    "    print('Insertion sort for', list, 'starts.')\n",
    "    \n",
    "    for i in range(0,len(list)):\n",
    "        \n",
    "        j=i\n",
    "        while list[j-1] > list[j] and j>0:\n",
    "            list[j-1], list[j] = list[j], list[j-1]\n",
    "            j -=1\n",
    "        print('Partially ordered list as:', list[0:i+1])    \n",
    "    return list\n",
    "        \n",
    "print(insertion_sort([9,23,4,1,0]))\n",
    "\n",
    "\n",
    "\n",
    "    "
   ]
  },
  {
   "cell_type": "code",
   "execution_count": 23,
   "id": "c3cce7a7",
   "metadata": {},
   "outputs": [
    {
     "name": "stdout",
     "output_type": "stream",
     "text": [
      "0\n",
      "0\n",
      "0\n",
      "0\n",
      "3\n",
      "3\n",
      "3\n",
      "3\n",
      "3\n"
     ]
    }
   ],
   "source": [
    "#Find_mid is exclusive of j\n",
    "def find_min(list, i, j):\n",
    "    min = i\n",
    "    for a in range(i,j):   \n",
    "        if list[a]<list[min]:\n",
    "            min = a\n",
    "        \n",
    "    return min\n",
    "\n",
    "list = [2,23,43,1, 75,1,1,1,0]\n",
    "print(find_min(list, 0,8))    "
   ]
  },
  {
   "cell_type": "code",
   "execution_count": 25,
   "id": "48f27c77",
   "metadata": {},
   "outputs": [
    {
     "name": "stdout",
     "output_type": "stream",
     "text": [
      "Selection sort for  [2, 0, 23, 43, -1, 1] starts\n",
      "0\n",
      "0\n",
      "1\n",
      "1\n",
      "1\n",
      "4\n",
      "Partially ordered list as:  [-1, 0, 23, 43, 2, 1]\n",
      "1\n",
      "1\n",
      "1\n",
      "1\n",
      "1\n",
      "Partially ordered list as:  [-1, 0, 23, 43, 2, 1]\n",
      "2\n",
      "2\n",
      "2\n",
      "4\n",
      "Partially ordered list as:  [-1, 0, 1, 43, 2, 23]\n",
      "3\n",
      "3\n",
      "4\n",
      "Partially ordered list as:  [-1, 0, 1, 2, 43, 23]\n",
      "4\n",
      "4\n",
      "Partially ordered list as:  [-1, 0, 1, 2, 23, 43]\n",
      "5\n",
      "Partially ordered list as:  [-1, 0, 1, 2, 23, 43]\n",
      "[-1, 0, 1, 2, 23, 43]\n"
     ]
    }
   ],
   "source": [
    "def selection_sort(list):\n",
    "    print('Selection sort for ', list, 'starts')\n",
    "    list2 = []\n",
    "  \n",
    "    for i in range(0, len(list)):\n",
    "        x = find_min(list,i,len(list))#Find min is inclusive\n",
    "        list2.append(list[x])\n",
    "        list[i], list[x] = list[x], list[i]\n",
    "        \n",
    "        print('Partially ordered list as: ', list)\n",
    "\n",
    "\n",
    "    return list2\n",
    "\n",
    "list = [2,0,23,43,-1,1]\n",
    "print(selection_sort(list))"
   ]
  },
  {
   "cell_type": "code",
   "execution_count": 4,
   "id": "1eae2cec",
   "metadata": {},
   "outputs": [
    {
     "name": "stdout",
     "output_type": "stream",
     "text": [
      "Bubble sort for  [3, 4, 2, 6, 7, 1, 45, 32]  starts.\n",
      "Partially ordered list as: [3, 2, 4, 6, 1, 7, 32, 45]\n",
      "Partially ordered list as: [2, 3, 4, 1, 6, 7, 32, 45]\n",
      "Partially ordered list as: [2, 3, 1, 4, 6, 7, 32, 45]\n",
      "Partially ordered list as: [2, 1, 3, 4, 6, 7, 32, 45]\n",
      "Partially ordered list as: [1, 2, 3, 4, 6, 7, 32, 45]\n",
      "Partially ordered list as: [1, 2, 3, 4, 6, 7, 32, 45]\n",
      "Partially ordered list as: [1, 2, 3, 4, 6, 7, 32, 45]\n",
      "Partially ordered list as: [1, 2, 3, 4, 6, 7, 32, 45]\n",
      "[1, 2, 3, 4, 6, 7, 32, 45]\n"
     ]
    }
   ],
   "source": [
    "def bubble_sort(array):\n",
    "    print('Bubble sort for ', list, ' starts.')\n",
    "    for i in range(0, len(array)):\n",
    "    \n",
    "        for j in range(0, len(array)-i-1):\n",
    "            if array[j] > array[j+1]:\n",
    "                array[j+1], array[j] = array[j], array[j+1]\n",
    "        print('Partially ordered list as:', list)        \n",
    "    return(array)\n",
    "\n",
    "list = [3,4,2,6,7,1, 45, 32]\n",
    "print(bubble_sort(list))\n",
    "    \n",
    "    "
   ]
  }
 ],
 "metadata": {
  "kernelspec": {
   "display_name": "Python 3 (ipykernel)",
   "language": "python",
   "name": "python3"
  },
  "language_info": {
   "codemirror_mode": {
    "name": "ipython",
    "version": 3
   },
   "file_extension": ".py",
   "mimetype": "text/x-python",
   "name": "python",
   "nbconvert_exporter": "python",
   "pygments_lexer": "ipython3",
   "version": "3.9.7"
  }
 },
 "nbformat": 4,
 "nbformat_minor": 5
}
