{
 "cells": [
  {
   "cell_type": "code",
   "execution_count": 118,
   "id": "c88a597a",
   "metadata": {},
   "outputs": [],
   "source": [
    "import random\n",
    "import math\n",
    "\n",
    "#Create a funtion to simulate coin flip of a biased coin\n",
    "def coin_flip():\n",
    "    x = random.choices(['heads','tails'], weights = [45,55])\n",
    "    return(str(x))\n",
    "\n"
   ]
  },
  {
   "cell_type": "code",
   "execution_count": 119,
   "id": "81d3334b",
   "metadata": {},
   "outputs": [
    {
     "name": "stdout",
     "output_type": "stream",
     "text": [
      "Enter the number of times to flip the coin: 23\n",
      "39.130434782608695\n"
     ]
    }
   ],
   "source": [
    "n = int(input(\"Enter the number of times to flip the coin: \")) #Asking user to input number of times to flip coin\n",
    "\n",
    "#Create a function to return the percentage of heads out of 'n' flips\n",
    "def flip_count(n):\n",
    "    stored_values = []                        #creating an empty list to add the outputs of coin flip n times\n",
    "    for i in range(n):\n",
    "        stored_values.append(coin_flip())     #store the output of coin_flip in a list\n",
    "    count = stored_values.count(\"['heads']\")  #Counts the number of times heads appears in the list\n",
    "    #print(stored_values)                     # uncomment to print the list if needed\n",
    "    return(float((count/n)*100))              #Returns the percentage of heads out of n flips\n",
    "    \n",
    "    \n",
    "print(flip_count(n))"
   ]
  },
  {
   "cell_type": "code",
   "execution_count": 125,
   "id": "1a63df13",
   "metadata": {},
   "outputs": [
    {
     "name": "stdout",
     "output_type": "stream",
     "text": [
      "Flip the coin 1 times, the % of heads is 0.0\n",
      "Flip the coin 10 times, the % of heads is 30.0\n",
      "Flip the coin 100 times, the % of heads is 44.0\n",
      "Flip the coin 1000 times, the % of heads is 42.5\n",
      "Flip the coin 10000 times, the % of heads is 45.739999999999995\n",
      "Flip the coin 100000 times, the % of heads is 45.084\n",
      "Flip the coin 1000000 times, the % of heads is 44.9927\n",
      "Flip the coin 10000000 times, the % of heads is 44.98945\n",
      "\n"
     ]
    }
   ],
   "source": [
    "monte_carlo_list = [1, 10, 100, 1000, 10000, 100000, 1000000, 10000000]\n",
    "monte_carlo_test = [1, 4,  6,  7,  100]      #list to test function\n",
    "\n",
    "#Create a function to return percentage of heads for a list of ns\n",
    "def monte_carlo(any_list):                   #Can run any list through the monte_carlo function\n",
    "    log = ''                                 #create empty string\n",
    "    for j in any_list:\n",
    "        result = \"Flip the coin {} times, the % of heads is {}\".format(j, flip_count(j))         #Formatted string\n",
    "        log += result + '\\n'                 #Add the result to the log string for the final return\n",
    "    return log\n",
    "\n",
    "\n",
    "print(monte_carlo(monte_carlo_list))"
   ]
  },
  {
   "cell_type": "code",
   "execution_count": null,
   "id": "fde2d40c",
   "metadata": {},
   "outputs": [],
   "source": []
  }
 ],
 "metadata": {
  "kernelspec": {
   "display_name": "Python 3 (ipykernel)",
   "language": "python",
   "name": "python3"
  },
  "language_info": {
   "codemirror_mode": {
    "name": "ipython",
    "version": 3
   },
   "file_extension": ".py",
   "mimetype": "text/x-python",
   "name": "python",
   "nbconvert_exporter": "python",
   "pygments_lexer": "ipython3",
   "version": "3.9.7"
  }
 },
 "nbformat": 4,
 "nbformat_minor": 5
}
