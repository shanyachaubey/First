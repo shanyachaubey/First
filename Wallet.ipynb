{
 "cells": [
  {
   "cell_type": "code",
   "execution_count": 4,
   "id": "cfe198dd",
   "metadata": {},
   "outputs": [],
   "source": [
    "import abc\n",
    "from abc import ABC"
   ]
  },
  {
   "cell_type": "code",
   "execution_count": 5,
   "id": "84a98100",
   "metadata": {},
   "outputs": [],
   "source": [
    "class Money(ABC):\n",
    "  \n",
    "    def __init__(self, value):\n",
    "        #v for value\n",
    "        self.value = value\n",
    "    \n",
    "    @abc.abstractclassmethod\n",
    "    def __str__(self):\n",
    "        pass\n",
    "    \n",
    "    @abc.abstractclassmethod\n",
    "    def intro(self):\n",
    "        pass\n",
    "    \n",
    "    \n",
    "\n"
   ]
  },
  {
   "cell_type": "code",
   "execution_count": 22,
   "id": "98244cca",
   "metadata": {},
   "outputs": [],
   "source": [
    "class Bill(Money):\n",
    "    def __init__(self, dollar):\n",
    "        if isinstance(dollar, int) and dollar in [1, 2, 5, 10, 20, 50, 100]:# to make sure it's the object of the class that we want\n",
    "            super().__init__(dollar*100) # did not intialize dollar, because not every attribute i\n",
    "        else:\n",
    "            raise Exception('Not a valid bill!')\n",
    "    def __str__(self):\n",
    "        return '${}'.format(self.value//100)    #// makes it an integer. \n",
    "    \n",
    "    def intro(self):\n",
    "        return 'A Bill with ${}'.format(self.value//100)\n",
    "    \n",
    "    "
   ]
  },
  {
   "cell_type": "code",
   "execution_count": 9,
   "id": "6c3982fe",
   "metadata": {},
   "outputs": [
    {
     "name": "stdout",
     "output_type": "stream",
     "text": [
      "$1\n"
     ]
    }
   ],
   "source": [
    "#m = Money(10) this will generate an error because money and its methods are abstratct\n",
    "b1 = Bill(1)\n",
    "print(b1)"
   ]
  },
  {
   "cell_type": "code",
   "execution_count": 10,
   "id": "b6fb7e39",
   "metadata": {},
   "outputs": [
    {
     "name": "stdout",
     "output_type": "stream",
     "text": [
      "A Bill with $1\n"
     ]
    }
   ],
   "source": [
    "print(b1.intro())"
   ]
  },
  {
   "cell_type": "code",
   "execution_count": 13,
   "id": "1bb0c8c1",
   "metadata": {},
   "outputs": [],
   "source": [
    "class Coin(Money):\n",
    "    def __init__(self, cent):\n",
    "        super().__init__(cent)\n",
    "        \n",
    "    def __str__(self):\n",
    "        return '¢{}'.format(self.value)"
   ]
  },
  {
   "cell_type": "code",
   "execution_count": null,
   "id": "74f7f473",
   "metadata": {},
   "outputs": [],
   "source": [
    "# c = Coin(10) will generate an error because Coin is abstract"
   ]
  },
  {
   "cell_type": "code",
   "execution_count": 14,
   "id": "4c5ddf36",
   "metadata": {},
   "outputs": [],
   "source": [
    "class Quarter(Coin):\n",
    "    def __init__(self):\n",
    "        super().__init__(25)\n",
    "        \n",
    "    def intro(self):\n",
    "        return 'A super cold quarter! '"
   ]
  },
  {
   "cell_type": "code",
   "execution_count": 15,
   "id": "bac19ce5",
   "metadata": {},
   "outputs": [
    {
     "name": "stdout",
     "output_type": "stream",
     "text": [
      "¢25\n",
      "A super cold quarter! \n"
     ]
    }
   ],
   "source": [
    "q = Quarter()\n",
    "print(q)\n",
    "print(q.intro())"
   ]
  },
  {
   "cell_type": "code",
   "execution_count": 17,
   "id": "0df11c79",
   "metadata": {},
   "outputs": [],
   "source": [
    "class Dime(Coin):\n",
    "    def __init__(self):\n",
    "        super().__init__(10)\n",
    "    \n",
    "    def intro(self):\n",
    "        return 'A super cold Dime'\n",
    "\n",
    "class Nickel(Coin):\n",
    "    def __init__(self):\n",
    "        super().__init__(5)\n",
    "        \n",
    "    def intro(self):\n",
    "        return 'A super cold Nickel'\n",
    "    \n",
    "class Penny(Coin):\n",
    "    def __init__(self):\n",
    "        super().__init__(1)\n",
    "        \n",
    "    def intro(self):\n",
    "        return 'A super cold Penny'"
   ]
  },
  {
   "cell_type": "code",
   "execution_count": 18,
   "id": "090afdca",
   "metadata": {},
   "outputs": [
    {
     "name": "stdout",
     "output_type": "stream",
     "text": [
      "¢10\n",
      "A super cold Dime\n"
     ]
    }
   ],
   "source": [
    "d = Dime()\n",
    "print(d)\n",
    "print(d.intro())"
   ]
  },
  {
   "cell_type": "code",
   "execution_count": 19,
   "id": "8889dba5",
   "metadata": {},
   "outputs": [
    {
     "name": "stdout",
     "output_type": "stream",
     "text": [
      "¢5\n",
      "A super cold Nickel\n"
     ]
    }
   ],
   "source": [
    "n = Nickel()\n",
    "print(n)\n",
    "print(n.intro())"
   ]
  },
  {
   "cell_type": "code",
   "execution_count": 20,
   "id": "38d640df",
   "metadata": {},
   "outputs": [
    {
     "name": "stdout",
     "output_type": "stream",
     "text": [
      "¢1\n",
      "A super cold Penny\n"
     ]
    }
   ],
   "source": [
    "p = Penny()\n",
    "print(p)\n",
    "print(p.intro())"
   ]
  },
  {
   "cell_type": "code",
   "execution_count": 21,
   "id": "779aaaee",
   "metadata": {},
   "outputs": [
    {
     "name": "stdout",
     "output_type": "stream",
     "text": [
      "$1000000\n",
      "A Bill with $1000000\n"
     ]
    }
   ],
   "source": [
    "b1m = Bill(1000000)\n",
    "print(b1m)\n",
    "print(b1m.intro())"
   ]
  },
  {
   "cell_type": "code",
   "execution_count": 23,
   "id": "64ad034b",
   "metadata": {},
   "outputs": [],
   "source": [
    "class Wallet():\n",
    "    def __init__(self):\n",
    "        self.money = []\n",
    "        self.total = 0\n",
    "        self.number = 0\n",
    "        \n",
    "    def add(self, money):\n",
    "        if isinstance(money, Money):\n",
    "            self.money.append(money)\n",
    "            self.total += money.value #This will be in cents remember\n",
    "            self.number += 1\n",
    "            print('{} is added'.format(money.intro()))\n",
    "        else:\n",
    "            raise Exception('Not valid Money!')\n",
    "            \n",
    "    def remove(self, money):\n",
    "        if isinstance(money, Money) and money in self.money:\n",
    "            self.money.remove(money)\n",
    "            self.total -= money.value\n",
    "            self.number -= 1\n",
    "            print('{} is removed'.format(money))\n",
    "        else:\n",
    "            raise Exception('Not a valid Money or no such money in the wallet')\n",
    "            \n",
    "    def report(self):\n",
    "        return 'There is ${} in the wallet: {}'.format(self.total/100, self.money)\n",
    "    \n",
    "\n",
    "    \n",
    "          \n",
    "    "
   ]
  },
  {
   "cell_type": "code",
   "execution_count": 26,
   "id": "99dd509b",
   "metadata": {},
   "outputs": [
    {
     "name": "stdout",
     "output_type": "stream",
     "text": [
      "A Bill with $1 is added\n"
     ]
    },
    {
     "data": {
      "text/plain": [
       "'There is $1.0 in the wallet: [<__main__.Bill object at 0x0000022E094DDA30>]'"
      ]
     },
     "execution_count": 26,
     "metadata": {},
     "output_type": "execute_result"
    }
   ],
   "source": [
    "w = Wallet()\n",
    "w.report()\n",
    "w.add(Bill(1))\n",
    "w.report()"
   ]
  },
  {
   "cell_type": "code",
   "execution_count": 27,
   "id": "af67a2b2",
   "metadata": {},
   "outputs": [
    {
     "name": "stdout",
     "output_type": "stream",
     "text": [
      "A Bill with $10 is added\n"
     ]
    },
    {
     "data": {
      "text/plain": [
       "'There is $11.0 in the wallet: [<__main__.Bill object at 0x0000022E094DDA30>, <__main__.Bill object at 0x0000022E094DDD90>]'"
      ]
     },
     "execution_count": 27,
     "metadata": {},
     "output_type": "execute_result"
    }
   ],
   "source": [
    "w.add(Bill(10))\n",
    "w.report()"
   ]
  },
  {
   "cell_type": "code",
   "execution_count": 29,
   "id": "6bc59e3b",
   "metadata": {},
   "outputs": [
    {
     "name": "stdout",
     "output_type": "stream",
     "text": [
      "A super cold quarter!  is added\n"
     ]
    },
    {
     "data": {
      "text/plain": [
       "'There is $11.25 in the wallet: [<__main__.Bill object at 0x0000022E094DDA30>, <__main__.Bill object at 0x0000022E094DDD90>, <__main__.Quarter object at 0x0000022E094DDF40>]'"
      ]
     },
     "execution_count": 29,
     "metadata": {},
     "output_type": "execute_result"
    }
   ],
   "source": [
    "w.add(Quarter())\n",
    "w.report()"
   ]
  }
 ],
 "metadata": {
  "kernelspec": {
   "display_name": "Python 3 (ipykernel)",
   "language": "python",
   "name": "python3"
  },
  "language_info": {
   "codemirror_mode": {
    "name": "ipython",
    "version": 3
   },
   "file_extension": ".py",
   "mimetype": "text/x-python",
   "name": "python",
   "nbconvert_exporter": "python",
   "pygments_lexer": "ipython3",
   "version": "3.9.7"
  }
 },
 "nbformat": 4,
 "nbformat_minor": 5
}
