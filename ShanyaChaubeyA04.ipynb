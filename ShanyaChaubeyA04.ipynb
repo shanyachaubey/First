{
 "cells": [
  {
   "cell_type": "code",
   "execution_count": null,
   "id": "a5d7d748",
   "metadata": {},
   "outputs": [],
   "source": [
    "def greedy_search(list,x):\n",
    "    \n",
    "    for i in range(len(list)):\n",
    "        if list[i] == x:\n",
    "            print (f'Index {i} on list {list} is {list[i]} equal to {x}')\n",
    "            break\n",
    "        else:\n",
    "            print (f'Index {i} on list {list} is {list[i]} not {x}. Move on!')\n",
    "            \n",
    "    if i == len(list):\n",
    "        print(-1)   \n"
   ]
  },
  {
   "cell_type": "code",
   "execution_count": null,
   "id": "46b8d0ac",
   "metadata": {},
   "outputs": [],
   "source": [
    "def binary_search(list, x):\n",
    "    high = len(list)-1\n",
    "    low = 0\n",
    "    \n",
    "    while low <= high:\n",
    "        mid = (high+low)//2\n",
    "        if list[mid] == x:\n",
    "            print(f\"Index {mid} on list {list} is {list[mid]} equal {x}. Found!\")\n",
    "            return mid\n",
    "            \n",
    "        elif x > list[mid]:            \n",
    "            print(f\"Index {mid} on list {list} is {list[mid]} lower than {x}. Move up!\")\n",
    "            low = mid + 1\n",
    "        elif x < list[mid]:            \n",
    "            print(f\"Index {mid} on list {list} is {list[mid]} greater than {x}. Move down!\")\n",
    "            high = mid - 1\n",
    "    \n",
    "    return print(-1)\n"
   ]
  },
  {
   "cell_type": "code",
   "execution_count": null,
   "id": "03cf5619",
   "metadata": {},
   "outputs": [],
   "source": [
    "set1 = [1, 3, 5, 7, 9, 11, 12, 14, 16, 17, 21, 33, 45, 99, 101]\n",
    "set2 = [1, 3, 5, 7, 9, 17, 12, 14, 16, 11, 21, 33, 45, 99, 101]"
   ]
  },
  {
   "cell_type": "code",
   "execution_count": 113,
   "id": "c611d49d",
   "metadata": {},
   "outputs": [
    {
     "name": "stdout",
     "output_type": "stream",
     "text": [
      "Index 0 on list [1, 3, 5, 7, 9, 11, 12, 14, 16, 17, 21, 33, 45, 99, 101] is 1 not 17. Move on!\n",
      "Index 1 on list [1, 3, 5, 7, 9, 11, 12, 14, 16, 17, 21, 33, 45, 99, 101] is 3 not 17. Move on!\n",
      "Index 2 on list [1, 3, 5, 7, 9, 11, 12, 14, 16, 17, 21, 33, 45, 99, 101] is 5 not 17. Move on!\n",
      "Index 3 on list [1, 3, 5, 7, 9, 11, 12, 14, 16, 17, 21, 33, 45, 99, 101] is 7 not 17. Move on!\n",
      "Index 4 on list [1, 3, 5, 7, 9, 11, 12, 14, 16, 17, 21, 33, 45, 99, 101] is 9 not 17. Move on!\n",
      "Index 5 on list [1, 3, 5, 7, 9, 11, 12, 14, 16, 17, 21, 33, 45, 99, 101] is 11 not 17. Move on!\n",
      "Index 6 on list [1, 3, 5, 7, 9, 11, 12, 14, 16, 17, 21, 33, 45, 99, 101] is 12 not 17. Move on!\n",
      "Index 7 on list [1, 3, 5, 7, 9, 11, 12, 14, 16, 17, 21, 33, 45, 99, 101] is 14 not 17. Move on!\n",
      "Index 8 on list [1, 3, 5, 7, 9, 11, 12, 14, 16, 17, 21, 33, 45, 99, 101] is 16 not 17. Move on!\n",
      "Index 9 on list [1, 3, 5, 7, 9, 11, 12, 14, 16, 17, 21, 33, 45, 99, 101] is 17 equal to 17\n"
     ]
    }
   ],
   "source": [
    "greedy_search(set1, 17)"
   ]
  },
  {
   "cell_type": "code",
   "execution_count": 114,
   "id": "37e887a1",
   "metadata": {},
   "outputs": [
    {
     "name": "stdout",
     "output_type": "stream",
     "text": [
      "Index 7 on list [1, 3, 5, 7, 9, 11, 12, 14, 16, 17, 21, 33, 45, 99, 101] is 14 lower than 17. Move up!\n",
      "Index 11 on list [1, 3, 5, 7, 9, 11, 12, 14, 16, 17, 21, 33, 45, 99, 101] is 33 greater than 17. Move down!\n",
      "Index 9 on list [1, 3, 5, 7, 9, 11, 12, 14, 16, 17, 21, 33, 45, 99, 101] is 17 equal 17. Found!\n"
     ]
    },
    {
     "data": {
      "text/plain": [
       "9"
      ]
     },
     "execution_count": 114,
     "metadata": {},
     "output_type": "execute_result"
    }
   ],
   "source": [
    "binary_search(set1, 17)"
   ]
  },
  {
   "cell_type": "code",
   "execution_count": null,
   "id": "e08458ff",
   "metadata": {},
   "outputs": [],
   "source": [
    "greedy_search(set2, 17)"
   ]
  },
  {
   "cell_type": "code",
   "execution_count": null,
   "id": "113e491f",
   "metadata": {},
   "outputs": [],
   "source": [
    "binary_search(set2, 17)"
   ]
  },
  {
   "cell_type": "markdown",
   "id": "de2980fa",
   "metadata": {},
   "source": [
    "The above search yields absent (-1) for 17 even though there is a 17 in set2, this is because the list set2 is not sorted. Binary search cannot work on lists that are unsorted."
   ]
  },
  {
   "cell_type": "code",
   "execution_count": null,
   "id": "4a10fd2f",
   "metadata": {},
   "outputs": [],
   "source": [
    "%%timeit -n 100\n",
    "greedy_search(set1, 17)"
   ]
  },
  {
   "cell_type": "code",
   "execution_count": null,
   "id": "4432aca4",
   "metadata": {},
   "outputs": [],
   "source": [
    "%%timeit -n 100\n",
    "binary_search(set1, 17)"
   ]
  },
  {
   "cell_type": "markdown",
   "id": "91e28b10",
   "metadata": {},
   "source": [
    "greedy/linear search time: 1.18 ms +- 219 micro seconds per loop\n",
    "binary search time: 372 micro seconds +- 257 micro seconds per loop\n",
    "\n",
    "It can be seen from the above times that Binary search is about 3.1 times faster than linear search for the given list and target value. "
   ]
  }
 ],
 "metadata": {
  "kernelspec": {
   "display_name": "Python 3 (ipykernel)",
   "language": "python",
   "name": "python3"
  },
  "language_info": {
   "codemirror_mode": {
    "name": "ipython",
    "version": 3
   },
   "file_extension": ".py",
   "mimetype": "text/x-python",
   "name": "python",
   "nbconvert_exporter": "python",
   "pygments_lexer": "ipython3",
   "version": "3.9.7"
  }
 },
 "nbformat": 4,
 "nbformat_minor": 5
}
