{
 "cells": [
  {
   "cell_type": "code",
   "execution_count": 133,
   "id": "dec9f3ea",
   "metadata": {},
   "outputs": [],
   "source": [
    "import abc\n",
    "import string\n",
    "from abc import ABC, abstractclassmethod\n",
    "\n"
   ]
  },
  {
   "cell_type": "code",
   "execution_count": 134,
   "id": "3c108efc",
   "metadata": {},
   "outputs": [],
   "source": [
    "class Student(ABC):\n",
    "    '''The abstract class of all students'''\n",
    "    \n",
    "    def __init__(self, first_name, last_name, stu_ID):\n",
    "        '''Create a student based on the first name, last name, and student ID\n",
    "        keyword arguments:\n",
    "            first_name(str)  -- the first name of the student\n",
    "            last_name(str)   -- the last name of the student\n",
    "            stu_ID(str)      -- the string ID of the student'''\n",
    "        \n",
    "        self.first_name = first_name\n",
    "        self.last_name = last_name\n",
    "        self.stu_ID = stu_ID\n",
    "    \n",
    "    def intro(self):\n",
    "        '''The introduction of the student'''\n",
    "        \n",
    "        message = f\"Hi, my name is, {self.first_name}, {self.last_name}, and my student id is, {self.stu_ID}\"\n",
    "        return message\n",
    "    \n",
    "    @abstractclassmethod\n",
    "    def pay(self):\n",
    "        '''Abstract method - need implementation by subclasses'''\n",
    "        \n",
    "        pass\n",
    "    \n"
   ]
  },
  {
   "cell_type": "code",
   "execution_count": 135,
   "id": "1424923a",
   "metadata": {},
   "outputs": [],
   "source": [
    "class StudentNotWorking(Student):\n",
    "    '''The class of all students not working'''\n",
    "    \n",
    "    def __init__(self, first_name, last_name, stu_ID):\n",
    "        super().__init__(first_name, last_name, stu_ID)\n",
    "        '''Create a student based on the first name, last name, and student ID\n",
    " |      \n",
    " |      keyword arguments:\n",
    " |      first_name(str)  -- the first name of the student\n",
    " |      last_name(str)   -- the last name of the student\n",
    " |      stu_ID(str)      -- the string ID of the student'''\n",
    "        \n",
    "        print(\"Reached studentnotworking\")\n",
    "        \n",
    "    def pay(self):\n",
    "        '''The payment amount will be zero'''\n",
    "        \n",
    "        return 0\n",
    "    "
   ]
  },
  {
   "cell_type": "code",
   "execution_count": 136,
   "id": "34cc31e3",
   "metadata": {},
   "outputs": [],
   "source": [
    "class StudentWorking(Student):#if abstract method exists then class should be abstract too?\n",
    "    '''The abstract class of all students working'''\n",
    "    \n",
    "    def __init__(self, first_name, last_name, stu_ID, department, supervisor_full_name):\n",
    "        '''Pass department and supervisor information to the student'''\n",
    "        \n",
    "        self.department = department\n",
    "        self.supervisor_full_name = supervisor_full_name\n",
    "        super().__init__(first_name, last_name, stu_ID)\n",
    "        \n",
    "    \n",
    "    @abstractclassmethod\n",
    "    def pay(self):\n",
    "        '''Abstract method - need implementation by subclasses'''\n",
    "        \n",
    "        pass\n",
    "        \n",
    "    "
   ]
  },
  {
   "cell_type": "code",
   "execution_count": 137,
   "id": "64ededdd",
   "metadata": {},
   "outputs": [],
   "source": [
    "class StudentWorkingFT(StudentWorking):\n",
    "    '''The class of all full time working students'''\n",
    "    \n",
    "    def __init__(self, first_name, last_name, stu_ID, department, supervisor_full_name, annual_rate):\n",
    "        '''Create a student based on the first name, last name, student ID, department, supervisor's fullname, and annual rate\n",
    "        keyword arguments:\n",
    "            first_name(str)            -- the first name of the student\n",
    "            last_name(str)             -- the last name of the student\n",
    "            stu_ID(str)                -- the string ID of the student\n",
    "            department(str)            -- the department the student works in\n",
    "            supervisor_full_name(str)  -- the full name of the supervisor\n",
    "            annual_rate(float)         -- the annual rate of salary'''\n",
    "        \n",
    "        self.annual_rate = annual_rate\n",
    "        super().__init__(first_name, last_name, stu_ID, department, supervisor_full_name)\n",
    "        \n",
    "    def pay(self):\n",
    "        '''The payment amount will be the annual rate salary devided by 365 then times 14 days'''\n",
    "        \n",
    "        return self.annual_rate/365*14\n",
    "    \n"
   ]
  },
  {
   "cell_type": "code",
   "execution_count": 138,
   "id": "1f0dbbee",
   "metadata": {},
   "outputs": [],
   "source": [
    "class StudentWorkingPT(StudentWorking):\n",
    "    '''The class of all part time working students'''\n",
    "    \n",
    "    def __init__(self,first_name, last_name, stu_ID, department, supervisor_full_name, hourly_rate):\n",
    "        '''Create a student based on the first name, last name, student ID, department, supervisor's fullname, and hourly rate'''\n",
    "        '''keyword arguments:\n",
    "               first_name(str)            -- the first name of the student\n",
    "               last_name(str)             -- the last name of the student\n",
    "               stu_ID(str)                -- the string ID of the student\n",
    "               department(str)            -- the department the student works in\n",
    "               supervisor_full_name(str)  -- the full name of the supervisor\n",
    "               hourly_rate(float)         -- the hourly rate of salary'''\n",
    "        \n",
    "        self.hourly_rate = hourly_rate\n",
    "        super().__init__(first_name, last_name, stu_ID, department, supervisor_full_name)\n",
    "        \n",
    "        \n",
    "    def pay(self):\n",
    "        '''The payment amount will be the hourly rate salary times hours worked'''\n",
    "        \n",
    "        hours = int(input('Enter Hours: ')) \n",
    "        self.hourly_rate = hours*self.hourly_rate\n",
    "        return self.hourly_rate\n",
    "       \n",
    "        \n",
    "        \n",
    "    \n",
    "# Establishing an instance of Student class should raise an error\n",
    "\n",
    "#stu0 = Student('Di', 'Wu', '0000')\n",
    "\n",
    "# Establishing an instance of Student_Not_Working class, and print out the intro() and pay()\n",
    "\n",
    "#stu1 = StudentNotWorking('Di', 'Wu', '0001')\n",
    "#print(stu1.intro())\n",
    "\n"
   ]
  },
  {
   "cell_type": "code",
   "execution_count": 139,
   "id": "ab7089fd",
   "metadata": {},
   "outputs": [
    {
     "name": "stdout",
     "output_type": "stream",
     "text": [
      "True\n",
      "True\n",
      "True\n",
      "True\n"
     ]
    }
   ],
   "source": [
    "#print(stu1.pay())\n",
    "print(issubclass(StudentNotWorking, Student))\n",
    "print(issubclass(StudentWorking, Student))\n",
    "print(issubclass(StudentWorkingFT, StudentWorking))\n",
    "print(issubclass(StudentWorkingPT, StudentWorking))"
   ]
  },
  {
   "cell_type": "code",
   "execution_count": 140,
   "id": "65d89e3d",
   "metadata": {},
   "outputs": [
    {
     "ename": "TypeError",
     "evalue": "Can't instantiate abstract class Student with abstract method pay",
     "output_type": "error",
     "traceback": [
      "\u001b[1;31m---------------------------------------------------------------------------\u001b[0m",
      "\u001b[1;31mTypeError\u001b[0m                                 Traceback (most recent call last)",
      "\u001b[1;32m~\\AppData\\Local\\Temp/ipykernel_47240/1292736780.py\u001b[0m in \u001b[0;36m<module>\u001b[1;34m\u001b[0m\n\u001b[1;32m----> 1\u001b[1;33m \u001b[0mstu0\u001b[0m \u001b[1;33m=\u001b[0m \u001b[0mStudent\u001b[0m\u001b[1;33m(\u001b[0m\u001b[1;34m'Di'\u001b[0m\u001b[1;33m,\u001b[0m \u001b[1;34m'Wu'\u001b[0m\u001b[1;33m,\u001b[0m \u001b[1;34m'0000'\u001b[0m\u001b[1;33m)\u001b[0m\u001b[1;33m\u001b[0m\u001b[1;33m\u001b[0m\u001b[0m\n\u001b[0m",
      "\u001b[1;31mTypeError\u001b[0m: Can't instantiate abstract class Student with abstract method pay"
     ]
    }
   ],
   "source": [
    "stu0 = Student('Di', 'Wu', '0000')"
   ]
  },
  {
   "cell_type": "code",
   "execution_count": null,
   "id": "89ba7137",
   "metadata": {},
   "outputs": [],
   "source": [
    "stu1 = StudentNotWorking('Di', 'Wu', '0001')\n",
    "print(stu1.intro())\n",
    "print(stu1.pay())"
   ]
  },
  {
   "cell_type": "code",
   "execution_count": null,
   "id": "ec0e45fb",
   "metadata": {},
   "outputs": [],
   "source": [
    "stu2 = Student_Working('Di', 'Wu', '0002', 'CS', 'Alan Turing')"
   ]
  },
  {
   "cell_type": "code",
   "execution_count": null,
   "id": "9b91b855",
   "metadata": {},
   "outputs": [],
   "source": [
    "stu3 = StudentWorkingFT('Di', 'Wu', '0003', 'CS', 'Alan Turing', 50000)\n",
    "print(stu3.intro())\n",
    "print(stu3.pay())"
   ]
  },
  {
   "cell_type": "code",
   "execution_count": 141,
   "id": "d07aaeff",
   "metadata": {},
   "outputs": [
    {
     "name": "stdout",
     "output_type": "stream",
     "text": [
      "You have reached here\n",
      "I am here\n",
      "Hi, my name is, Di, Wu, and my student id is, 0004\n",
      "Enter Hours: t\n"
     ]
    },
    {
     "ename": "ValueError",
     "evalue": "invalid literal for int() with base 10: 't'",
     "output_type": "error",
     "traceback": [
      "\u001b[1;31m---------------------------------------------------------------------------\u001b[0m",
      "\u001b[1;31mValueError\u001b[0m                                Traceback (most recent call last)",
      "\u001b[1;32m~\\AppData\\Local\\Temp/ipykernel_47240/3966841608.py\u001b[0m in \u001b[0;36m<module>\u001b[1;34m\u001b[0m\n\u001b[0;32m      1\u001b[0m \u001b[0mstu4\u001b[0m \u001b[1;33m=\u001b[0m \u001b[0mStudentWorkingPT\u001b[0m\u001b[1;33m(\u001b[0m\u001b[1;34m'Di'\u001b[0m\u001b[1;33m,\u001b[0m \u001b[1;34m'Wu'\u001b[0m\u001b[1;33m,\u001b[0m \u001b[1;34m'0004'\u001b[0m\u001b[1;33m,\u001b[0m \u001b[1;34m'CS'\u001b[0m\u001b[1;33m,\u001b[0m \u001b[1;34m'Alan Turing'\u001b[0m\u001b[1;33m,\u001b[0m \u001b[1;36m20\u001b[0m\u001b[1;33m)\u001b[0m\u001b[1;33m\u001b[0m\u001b[1;33m\u001b[0m\u001b[0m\n\u001b[0;32m      2\u001b[0m \u001b[0mprint\u001b[0m\u001b[1;33m(\u001b[0m\u001b[0mstu4\u001b[0m\u001b[1;33m.\u001b[0m\u001b[0mintro\u001b[0m\u001b[1;33m(\u001b[0m\u001b[1;33m)\u001b[0m\u001b[1;33m)\u001b[0m\u001b[1;33m\u001b[0m\u001b[1;33m\u001b[0m\u001b[0m\n\u001b[1;32m----> 3\u001b[1;33m \u001b[0mprint\u001b[0m\u001b[1;33m(\u001b[0m\u001b[0mstu4\u001b[0m\u001b[1;33m.\u001b[0m\u001b[0mpay\u001b[0m\u001b[1;33m(\u001b[0m\u001b[1;33m)\u001b[0m\u001b[1;33m)\u001b[0m\u001b[1;33m\u001b[0m\u001b[1;33m\u001b[0m\u001b[0m\n\u001b[0m",
      "\u001b[1;32m~\\AppData\\Local\\Temp/ipykernel_47240/2491333124.py\u001b[0m in \u001b[0;36mpay\u001b[1;34m(self)\u001b[0m\n\u001b[0;32m     19\u001b[0m         \u001b[1;34m'''The payment amount will be the hourly rate salary times hours worked'''\u001b[0m\u001b[1;33m\u001b[0m\u001b[1;33m\u001b[0m\u001b[0m\n\u001b[0;32m     20\u001b[0m \u001b[1;33m\u001b[0m\u001b[0m\n\u001b[1;32m---> 21\u001b[1;33m         \u001b[0mhours\u001b[0m \u001b[1;33m=\u001b[0m \u001b[0mint\u001b[0m\u001b[1;33m(\u001b[0m\u001b[0minput\u001b[0m\u001b[1;33m(\u001b[0m\u001b[1;34m'Enter Hours: '\u001b[0m\u001b[1;33m)\u001b[0m\u001b[1;33m)\u001b[0m\u001b[1;33m\u001b[0m\u001b[1;33m\u001b[0m\u001b[0m\n\u001b[0m\u001b[0;32m     22\u001b[0m         \u001b[1;32mif\u001b[0m \u001b[0misinstance\u001b[0m\u001b[1;33m(\u001b[0m\u001b[0mhours\u001b[0m\u001b[1;33m,\u001b[0m \u001b[0mint\u001b[0m\u001b[1;33m)\u001b[0m \u001b[1;32mand\u001b[0m \u001b[0mhours\u001b[0m \u001b[1;33m>\u001b[0m \u001b[1;36m0\u001b[0m\u001b[1;33m:\u001b[0m\u001b[1;33m\u001b[0m\u001b[1;33m\u001b[0m\u001b[0m\n\u001b[0;32m     23\u001b[0m             \u001b[0mself\u001b[0m\u001b[1;33m.\u001b[0m\u001b[0mhourly_rate\u001b[0m \u001b[1;33m=\u001b[0m \u001b[0mhours\u001b[0m\u001b[1;33m*\u001b[0m\u001b[0mself\u001b[0m\u001b[1;33m.\u001b[0m\u001b[0mhourly_rate\u001b[0m\u001b[1;33m\u001b[0m\u001b[1;33m\u001b[0m\u001b[0m\n",
      "\u001b[1;31mValueError\u001b[0m: invalid literal for int() with base 10: 't'"
     ]
    }
   ],
   "source": [
    "stu4 = StudentWorkingPT('Di', 'Wu', '0004', 'CS', 'Alan Turing', 20)\n",
    "print(stu4.intro())\n",
    "print(stu4.pay())"
   ]
  },
  {
   "attachments": {},
   "cell_type": "markdown",
   "id": "da2b1df1",
   "metadata": {},
   "source": []
  },
  {
   "cell_type": "code",
   "execution_count": null,
   "id": "5f369da1",
   "metadata": {},
   "outputs": [],
   "source": [
    "help(Student)"
   ]
  }
 ],
 "metadata": {
  "kernelspec": {
   "display_name": "Python 3 (ipykernel)",
   "language": "python",
   "name": "python3"
  },
  "language_info": {
   "codemirror_mode": {
    "name": "ipython",
    "version": 3
   },
   "file_extension": ".py",
   "mimetype": "text/x-python",
   "name": "python",
   "nbconvert_exporter": "python",
   "pygments_lexer": "ipython3",
   "version": "3.9.7"
  }
 },
 "nbformat": 4,
 "nbformat_minor": 5
}
